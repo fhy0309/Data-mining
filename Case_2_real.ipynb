{
 "cells": [
  {
   "cell_type": "code",
   "execution_count": 10,
   "id": "initial_id",
   "metadata": {
    "collapsed": true,
    "ExecuteTime": {
     "end_time": "2024-09-28T03:18:59.983385Z",
     "start_time": "2024-09-28T03:18:59.871117Z"
    }
   },
   "outputs": [
    {
     "name": "stdout",
     "output_type": "stream",
     "text": [
      "[['Country Name', '1991', '1992', '1993', '1994', '1995', '1996', '1997', '1998', '1999', '2000', '2001', '2002', '2003', '2004', '2005', '2006', '2007', '2008', '2009', '2010', '2011', '2012', '2013', '2014'], ['Afghanistan', '30.89999962', '30.89999962', '31.20000076', '30.70000076', '30.79999924', '30.60000038', '30.79999924', '30.89999962', '30.60000038', '30.79999924', '31.39999962', '31', '30.10000038', '31.79999924', '24.79999924', '26.20000076', '24.5', '26.60000038', '23', '25.60000038', '26', '24.39999962', '27.5', '28.10000038']]\n"
     ]
    }
   ],
   "source": [
    "import csv\n",
    "def read_csv(path):\n",
    "    f = open(path, \"r\")\n",
    "    content = []\n",
    "    reader = csv.reader(f)\n",
    "    for row in reader:\n",
    "        content.append(row)\n",
    "    f.close()\n",
    "    return content\n",
    "unemploy_male = read_csv(\"unemployment_male.csv\")\n",
    "unemploy_female = read_csv(\"unemployment_female.csv\")\n",
    "print(unemploy_male[:2])\n"
   ]
  },
  {
   "cell_type": "code",
   "execution_count": 11,
   "outputs": [],
   "source": [
    "class Youth:\n",
    "    \n",
    "    def __init__(self, dataset):\n",
    "        self.dataset = dataset"
   ],
   "metadata": {
    "collapsed": false,
    "ExecuteTime": {
     "end_time": "2024-09-28T03:18:59.985357Z",
     "start_time": "2024-09-28T03:18:59.877368Z"
    }
   },
   "id": "5ff6e6e26c1fde32"
  },
  {
   "cell_type": "code",
   "execution_count": 12,
   "outputs": [
    {
     "name": "stdout",
     "output_type": "stream",
     "text": [
      "['China', '7.400000095', '6.699999809', '6.699999809', '6.900000095', '7.300000191', '7.400000095', '7.5', '7.800000191', '7.800000191', '7.599999905', '7.699999809', '7.5', '7.300000191', '7.300000191', '7', '6.800000191', '6.5', '7.400000095', '7.5', '7.300000191', '7.5', '7.800000191', '8.100000381', '8.5']\n",
      "对不起，没有此国家！\n",
      "None\n"
     ]
    }
   ],
   "source": [
    "class Youth:\n",
    "    \n",
    "    def __init__(self, dataset):\n",
    "        self.dataset = dataset\n",
    "    \n",
    "    def gen_by_country(self, country):\n",
    "        \n",
    "        for row in self.dataset:\n",
    "            if row[0] == country:\n",
    "                return row\n",
    "        \n",
    "        print(\"对不起，没有此国家！\")\n",
    "        return \n",
    "        \n",
    "    \n",
    "un_male_youth = Youth(unemploy_male)\n",
    "china_un_male = un_male_youth.gen_by_country(\"China\")\n",
    "print(china_un_male)\n",
    "print(un_male_youth.gen_by_country(\"C\"))"
   ],
   "metadata": {
    "collapsed": false,
    "ExecuteTime": {
     "end_time": "2024-09-28T03:18:59.986368Z",
     "start_time": "2024-09-28T03:18:59.883250Z"
    }
   },
   "id": "cf2c15618d95aafa"
  },
  {
   "cell_type": "code",
   "execution_count": 13,
   "outputs": [
    {
     "name": "stdout",
     "output_type": "stream",
     "text": [
      "['28.10000038', '11.19999981', '25.29999924', '46.30888833', '17.10000038', '25.5', '41.70000076', '12.19999981', '9.399999619', '14.10000038', '11.60000038', '23', '1.799999952', '3.799999952', '9.399999619', '25.89999962', '16.79999924', '34.29999924', '58.5', '12.80000019', '35.29999924', '6.300000191', '19', '30', '12.10000038', '10.5', '39.70000076', '12.39999962', '12', '25.25822604', '8.199999809', '19.10000038', '8.5', '5', '7.900000095', '11.39999962', '24.70000076', '11.5', '25.89999962', '24', '32.02856779', '7.599999905', '35.59999847', '18.39999962', '6.900000095', '11.39999962', '45.59999847', '32', '10.89566675', '17.39958382', '10.6770244', '18.2006106', '21.25392105', '14.69999981', '64.80000305', '27.56825769', '11.69999981', '58.09999847', '13.10000038', '9.699999809', '24.90291996', '23.70111605', '17.60000038', '24.39999962', '22.5', '40.79999924', '14.39999962', '35.70000076', '3.299999952', '0.899999976', '11.19999981', '11.80000019', '13.60000038', '59.5', '5.599999905', '31.79999924', '18.30201708', '6.900000095', '10.19999981', '12.84706329', '46.59999847', '20.20000076', '21.89999962', '16.27607448', '15.2691637', '12.9476838', '12.17801197', '22.39999962', '13.35855028', '11', '24.20000076', '41.40000153', '57.70000076', '8.199999809', '11.5', '45.79999924', '39.29999924', '47.59999847', '5.699999809', '4', '18', '17.20000076', '1', '9.100000381', '12.80000019', '17.03817745', '2.700000048', '24.70000076', '5.800000191', '69.19999695', '17.16440285', '13.5841348', '11.51168496', '25.39999962', '15.5222006', '15.20315402', '40.90000153', '11.78406624', '20.39999962', '13.39999962', '19.70000076', '3.099999905', '19.10000038', '7.800000191', '5.800000191', '36.79999924', '47.47848728', '11', '15.70193726', '50.59999847', '14.39999962', '12.5', '10.69999981', '48.58599617', '39.40000153', '10', '39.90000153', '40.70000076', '27.89999962', '14.80000019', '7.5', '12.63318557', '43.29999924', '5.800000191', '13.19999981', '9.699999809', '12', '7.300000191', '3.200000048', '15.60000038', '16.21475603', '30.10000038', '27.97090307', '12.10000038', '14.60000038', '9.699999809', '18.39999962', '6.199999809', '25.5', '15.99437734', '24.29999924', '8.800000191', '36.5', '12', '16.39494214', '7.599999905', '25.10000038', '13.60000038', '0.5', '11.32237692', '55.70000076', '32.20000076', '18.60000038', '11.80000019', '10.89999962', '3.099999905', '11.69999981', '11.5', '56.40000153', '15.24584082', '15.24584082', '28.32747965', '26', '33.40000153', '21.60000038', '21.20000076', '46.09999847', '66.59999847', '11.10000038', '10.92348711', '18.96229258', '11.30000019', '4.699999809', '12.80000019', '21.89999962', '17.24019742', '48.38395689', '19.70000076', '11.32237692', '15.24584082', '13.19999981', '29.89999962', '19.89999962', '6.699999809', '7.400000095', '15.5', '15.94869623', '23.5', '12.69999981', '22', '21.39999962', '7', '62.29999924', '15.57259', '54.09999847', '57.09999847', '13.30000019', '23.10000038', '9.399999619']\n",
      "对不起，没有此年份！\n",
      "None\n"
     ]
    }
   ],
   "source": [
    "class Youth:\n",
    "    \n",
    "    def __init__(self, dataset):\n",
    "        self.dataset = dataset\n",
    "  \n",
    "    # 根据国家抽取数据\n",
    "  \n",
    "    def gen_by_country(self, country):\n",
    "        \n",
    "        for row in self.dataset:\n",
    "            if row[0] == country:\n",
    "                return row\n",
    "        \n",
    "        print(\"对不起，没有此国家！\")\n",
    "    \n",
    "\n",
    "    # 根据时间抽取数据\n",
    "\n",
    "    def gen_by_time(self, time):\n",
    "        \n",
    "        for i in range(len(self.dataset[0])):\n",
    "            if self.dataset[0][i] == str(time):\n",
    "                posi_of_time = i\n",
    "        \n",
    "        content = []\n",
    "        \n",
    "        try: \n",
    "            for row in self.dataset[1:]:\n",
    "                content.append(row[posi_of_time])\n",
    "        except:\n",
    "            print(\"对不起，没有此年份！\")\n",
    "            return\n",
    "        \n",
    "        return content\n",
    "    \n",
    "un_male_youth = Youth(unemploy_male)\n",
    "un_male_2014 = un_male_youth.gen_by_time(2014)\n",
    "print(un_male_2014)\n",
    "print(un_male_youth.gen_by_time(2017))"
   ],
   "metadata": {
    "collapsed": false,
    "ExecuteTime": {
     "end_time": "2024-09-28T03:18:59.986622Z",
     "start_time": "2024-09-28T03:18:59.889882Z"
    }
   },
   "id": "15abe878f07bc0a1"
  },
  {
   "cell_type": "code",
   "execution_count": 15,
   "outputs": [
    {
     "data": {
      "text/plain": "<Figure size 432x288 with 1 Axes>",
      "image/png": "[encoded data removed]"
     },
     "metadata": {
      "needs_background": "light"
     },
     "output_type": "display_data"
    },
    {
     "data": {
      "text/plain": "<Figure size 432x288 with 1 Axes>",
      "image/png": "[encoded data removed]"
     },
     "metadata": {
      "needs_background": "light"
     },
     "output_type": "display_data"
    }
   ],
   "source": [
    "from matplotlib import pyplot as plt\n",
    "from matplotlib import cm\n",
    "import numpy as np\n",
    "\n",
    "class Youth:\n",
    "    \n",
    "    def __init__(self, dataset):\n",
    "        self.dataset = dataset\n",
    "    \n",
    "    def gen_by_country(self, country):\n",
    "        \n",
    "        for row in self.dataset:\n",
    "            if row[0] == country:\n",
    "                return row\n",
    "        \n",
    "        print(\"对不起，没有此国家！\")\n",
    "        return None\n",
    "    \n",
    "    def gen_by_time(self, time):\n",
    "        \n",
    "        for i in range(len(self.dataset[0])):\n",
    "            if self.dataset[0][i] == str(time):\n",
    "                posi_of_time = i\n",
    "        \n",
    "        content = []\n",
    "        \n",
    "        try: \n",
    "            for row in self.dataset[1:]:\n",
    "                content.append(row[posi_of_time])\n",
    "        except:\n",
    "            print(\"对不起，没有此年份！\")\n",
    "            return None\n",
    "        \n",
    "        return content\n",
    "\n",
    "    def plot_by_country(self, country, gender):\n",
    "        \n",
    "        content = self.gen_by_country(country)\n",
    "        \n",
    "        if content is None:\n",
    "            pass\n",
    "        else:\n",
    "            time = list(map(lambda x: int(x), self.dataset[0][1:]))\n",
    "            content = list(map(lambda x: float(x), content[1:]))\n",
    "            plt.plot(time, content)\n",
    "            plt.title(gender)\n",
    "            plt.show()\n",
    "    \n",
    "    def plot_by_time(self, time, countries):\n",
    "        content = self.gen_by_time(time)\n",
    "    \n",
    "        if content is None:\n",
    "            pass\n",
    "        else:\n",
    "            countries_ = [row[0] for row in self.dataset[1:]]\n",
    "            posi_of_country = []\n",
    "            for i in range(len(countries_)):\n",
    "                if countries_[i] in countries:\n",
    "                    posi_of_country.append(i)\n",
    "    \n",
    "            content_ = [content[i] for i in posi_of_country]\n",
    "            content = list(map(lambda x: float(x), content_))\n",
    "    \n",
    "            ind = np.arange(1, len(content) + 1)\n",
    "            width = 0.35\n",
    "    \n",
    "            N = len(content)\n",
    "            for i in range(N):\n",
    "                plt.bar(ind[i], content[i], width, color=cm.jet(1. * i / N))\n",
    "    \n",
    "            plt.title(str(time))\n",
    "            plt.xticks(ind + width / 2., countries)\n",
    "            plt.show()\n",
    "\n",
    "un_male_youth = Youth(unemploy_male)\n",
    "un_male_youth.plot_by_time(2014, [\"China\", \"Australia\", 'Euro area'])\n",
    "un_female_youth = Youth(unemploy_female)\n",
    "un_female_youth.plot_by_country(\"China\", \"female\")"
   ],
   "metadata": {
    "collapsed": false,
    "ExecuteTime": {
     "end_time": "2024-09-28T03:25:12.004746Z",
     "start_time": "2024-09-28T03:25:11.556669Z"
    }
   },
   "id": "c070ce360b8e83e2"
  },
  {
   "cell_type": "code",
   "execution_count": null,
   "outputs": [],
   "source": [],
   "metadata": {
    "collapsed": false,
    "ExecuteTime": {
     "start_time": "2024-09-28T03:18:59.933241Z"
    }
   },
   "id": "7b9157ed351fb776"
  }
 ],
 "metadata": {
  "kernelspec": {
   "display_name": "Python 3",
   "language": "python",
   "name": "python3"
  },
  "language_info": {
   "codemirror_mode": {
    "name": "ipython",
    "version": 2
   },
   "file_extension": ".py",
   "mimetype": "text/x-python",
   "name": "python",
   "nbconvert_exporter": "python",
   "pygments_lexer": "ipython2",
   "version": "2.7.6"
  }
 },
 "nbformat": 4,
 "nbformat_minor": 5
}
