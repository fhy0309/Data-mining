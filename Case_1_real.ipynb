{
 "cells": [
  {
   "cell_type": "code",
   "execution_count": 5,
   "outputs": [],
   "source": [
    "import pandas as pd\n",
    "# 读取 .xlsm 文件\n",
    "file_path = 'whine.xlsm'\n",
    "df = pd.read_excel(file_path, engine='openpyxl')\n",
    "\n",
    "# 将数据保存为 .csv 文件\n",
    "output_csv_path = 'whine.csv'\n",
    "df.to_csv(output_csv_path, index=False)"
   ],
   "metadata": {
    "collapsed": false,
    "ExecuteTime": {
     "end_time": "2024-09-28T02:08:15.228902Z",
     "start_time": "2024-09-28T02:08:14.217439Z"
    }
   },
   "id": "94ac7e347c082c0e"
  },
  {
   "cell_type": "code",
   "execution_count": 6,
   "outputs": [
    {
     "name": "stdout",
     "output_type": "stream",
     "text": [
      "['fixed acidity', 'volatile acidity', 'citric acid', 'residual sugar', 'chlorides', 'free sulfur dioxide', 'total sulfur dioxide', 'density', 'pH', 'sulphates', 'alcohol', 'quality']\n",
      "['7.0', '0.27', '0.36', '20.7', '0.045', '45.0', '170.0', '1.001', '3.0', '0.45', '8.8', '6']\n",
      "['8.1', '0.28', '0.4', '6.9', '0.05', '30.0', '97.0', '0.9951', '3.26', '0.44', '10.1', '6']\n",
      "['7.2', '0.23', '0.32', '8.5', '0.058', '47.0', '186.0', '0.9956', '3.19', '0.4', '9.9', '6']\n",
      "['7.2', '0.23', '0.32', '8.5', '0.058', '47.0', '186.0', '0.9956', '3.19', '0.4', '9.9', '6']\n"
     ]
    }
   ],
   "source": [
    "import csv\n",
    "f = open(\"whine.csv\", \"r\")\n",
    "reader = csv.reader(f)\n",
    "content = []\n",
    "for row in reader:\n",
    "    content.append(row)\n",
    "f.close()\n",
    "for i in range(5):\n",
    "    print(content[i])"
   ],
   "metadata": {
    "collapsed": false,
    "ExecuteTime": {
     "end_time": "2024-09-28T02:08:15.358843Z",
     "start_time": "2024-09-28T02:08:15.354065Z"
    }
   },
   "id": "69d1210864e8bb7e"
  },
  {
   "cell_type": "code",
   "execution_count": 7,
   "outputs": [
    {
     "name": "stdout",
     "output_type": "stream",
     "text": [
      "{3, 4, 5, 6, 7, 8, 9}\n"
     ]
    }
   ],
   "source": [
    "qualities = []\n",
    "\n",
    "for row in content[1:]:\n",
    "    qualities.append(int(row[-1]))\n",
    "\n",
    "unity_quality = set(qualities)\n",
    "print(unity_quality)"
   ],
   "metadata": {
    "collapsed": false,
    "ExecuteTime": {
     "end_time": "2024-09-28T02:08:15.359247Z",
     "start_time": "2024-09-28T02:08:15.355422Z"
    }
   },
   "id": "25e72670549c453b"
  },
  {
   "cell_type": "code",
   "execution_count": 8,
   "outputs": [
    {
     "name": "stdout",
     "output_type": "stream",
     "text": [
      "dict_keys([6, 5, 7, 8, 4, 3, 9])\n"
     ]
    }
   ],
   "source": [
    "content_dict = {}\n",
    "\n",
    "for row in content[1:]:\n",
    "    quality = int(row[-1])\n",
    "    \n",
    "    if quality not in content_dict.keys():\n",
    "        content_dict[quality] = [row]\n",
    "    \n",
    "    else:\n",
    "        content_dict[quality].append(row)\n",
    "\n",
    "print(content_dict.keys())"
   ],
   "metadata": {
    "collapsed": false,
    "ExecuteTime": {
     "end_time": "2024-09-28T02:08:15.359511Z",
     "start_time": "2024-09-28T02:08:15.355630Z"
    }
   },
   "id": "65d2596d67bf9673"
  },
  {
   "cell_type": "code",
   "execution_count": 9,
   "outputs": [
    {
     "name": "stdout",
     "output_type": "stream",
     "text": [
      "[(6, 1539), (5, 1020), (7, 616), (8, 123), (4, 115), (3, 14), (9, 4)]\n"
     ]
    }
   ],
   "source": [
    "number_tuple = []\n",
    "\n",
    "for key, value in content_dict.items():\n",
    "    number_tuple.append((key, len(value)))\n",
    "    \n",
    "print(number_tuple)"
   ],
   "metadata": {
    "collapsed": false,
    "ExecuteTime": {
     "end_time": "2024-09-28T02:14:52.193219Z",
     "start_time": "2024-09-28T02:14:52.112911Z"
    }
   },
   "id": "5ff13aea432fd613"
  },
  {
   "cell_type": "code",
   "execution_count": 10,
   "outputs": [
    {
     "name": "stdout",
     "output_type": "stream",
     "text": [
      "[(6, 6.812085769980511), (5, 6.907843137254891), (7, 6.755844155844158), (8, 6.708130081300811), (4, 7.052173913043476), (3, 7.535714285714286), (9, 7.5)]\n"
     ]
    }
   ],
   "source": [
    "mean_tuple = []\n",
    "\n",
    "for key, value in content_dict.items():\n",
    "    sum_ = 0\n",
    "    for row in value:\n",
    "        sum_ += float(row[0])\n",
    "    mean_tuple.append((key, sum_/len(value)))\n",
    "\n",
    "print(mean_tuple)"
   ],
   "metadata": {
    "collapsed": false,
    "ExecuteTime": {
     "end_time": "2024-09-28T02:18:44.122328Z",
     "start_time": "2024-09-28T02:18:44.086943Z"
    }
   },
   "id": "cfa8d11aea898617"
  }
 ],
 "metadata": {
  "kernelspec": {
   "display_name": "Python 3",
   "language": "python",
   "name": "python3"
  },
  "language_info": {
   "codemirror_mode": {
    "name": "ipython",
    "version": 2
   },
   "file_extension": ".py",
   "mimetype": "text/x-python",
   "name": "python",
   "nbconvert_exporter": "python",
   "pygments_lexer": "ipython2",
   "version": "2.7.6"
  }
 },
 "nbformat": 4,
 "nbformat_minor": 5
}
